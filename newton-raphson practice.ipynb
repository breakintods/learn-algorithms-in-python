{
 "cells": [
  {
   "cell_type": "code",
   "execution_count": 25,
   "metadata": {},
   "outputs": [],
   "source": [
    "# https://towardsdatascience.com/develop-your-own-newton-raphson-algorithm-in-python-a20a5b68c7dd\n",
    "# try it with another function\n",
    "\n",
    "import numpy as np\n",
    "import matplotlib.pyplot as plt"
   ]
  },
  {
   "cell_type": "code",
   "execution_count": 48,
   "metadata": {},
   "outputs": [],
   "source": [
    "# defining the equation and derivative\n",
    "\n",
    "def f(x):\n",
    "    res = x**6/6 - 3*x**4 - 2*x**3/3 + 27*x**2/2 + 18*x - 30\n",
    "    return res"
   ]
  },
  {
   "cell_type": "code",
   "execution_count": 49,
   "metadata": {},
   "outputs": [],
   "source": [
    "def dfdx(x):\n",
    "    res = x**5-12*x**3-2*x**2+27*x+18\n",
    "    return res"
   ]
  },
  {
   "cell_type": "code",
   "execution_count": 52,
   "metadata": {},
   "outputs": [
    {
     "name": "stdout",
     "output_type": "stream",
     "text": [
      "Iteration 0: x = -4, f(x) = 71.33333333333329\n"
     ]
    }
   ],
   "source": [
    "# newton-raphson algorithm\n",
    "max_iter = 100 #maximum number of iterations\n",
    "tol = 1E-10  # tolerance\n",
    "i = 0 #iteration counter\n",
    "x0 = -4 #initial guess\n",
    "xi_1=x0\n",
    "print('Iteration ' + str(i) + ': x = ' + str(x0) +  ', f(x) = ' + str(f(x0)))\n"
   ]
  },
  {
   "cell_type": "code",
   "execution_count": 53,
   "metadata": {},
   "outputs": [
    {
     "name": "stdout",
     "output_type": "stream",
     "text": [
      "Iteration 1: x = -3.811287477954145, f(x) = 12.231608128408624\n",
      "Iteration 2: x = -3.7630930644934524, f(x) = 0.6515563779155826\n",
      "Iteration 3: x = -3.7602237214585608, f(x) = 0.0021988576126403814\n",
      "Iteration 4: x = -3.7602139723096752, f(x) = 2.5311564399999043e-08\n",
      "Iteration 5: x = -3.760213972197448, f(x) = 1.4210854715202004e-13\n"
     ]
    }
   ],
   "source": [
    "# iterating untill the tolerance or max iterations limit is met\n",
    "while abs(f(xi_1)) > tol or i > max_iter:\n",
    "    i = i+1\n",
    "    xi = xi_1 - f(xi_1)/dfdx(xi_1) #newton-raphson equation\n",
    "    print('Iteration ' + str(i) + ': x = ' + str(xi) +  ', f(x) = ' + str(f(xi)))\n",
    "    xi_1 = xi"
   ]
  },
  {
   "cell_type": "code",
   "execution_count": 47,
   "metadata": {},
   "outputs": [
    {
     "data": {
      "text/plain": [
       "-3.760213972197542"
      ]
     },
     "execution_count": 47,
     "metadata": {},
     "output_type": "execute_result"
    }
   ],
   "source": [
    "# try with another library\n",
    "\n",
    "from scipy import optimize\n",
    "\n",
    "def f (x) :\n",
    "  return x**6/6 - 3*x**4 - 2*x**3/3 + 27*x**2/2 + 18*x - 30\n",
    "  \n",
    "x0 = -4\n",
    "optimize.newton(f, x0)"
   ]
  },
  {
   "cell_type": "code",
   "execution_count": null,
   "metadata": {},
   "outputs": [],
   "source": []
  }
 ],
 "metadata": {
  "kernelspec": {
   "display_name": "Python 3",
   "language": "python",
   "name": "python3"
  },
  "language_info": {
   "codemirror_mode": {
    "name": "ipython",
    "version": 3
   },
   "file_extension": ".py",
   "mimetype": "text/x-python",
   "name": "python",
   "nbconvert_exporter": "python",
   "pygments_lexer": "ipython3",
   "version": "3.8.5"
  }
 },
 "nbformat": 4,
 "nbformat_minor": 4
}
